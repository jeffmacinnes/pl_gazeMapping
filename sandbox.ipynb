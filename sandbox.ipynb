{
 "cells": [
  {
   "cell_type": "code",
   "execution_count": 1,
   "metadata": {
    "collapsed": true
   },
   "outputs": [],
   "source": [
    "import os\n",
    "import pandas as pd\n",
    "import numpy as np"
   ]
  },
  {
   "cell_type": "code",
   "execution_count": 2,
   "metadata": {
    "collapsed": true
   },
   "outputs": [],
   "source": [
    "df = pd.read_table('../pl_testData/2017_02_07/003/processed/gazeData_world.csv')"
   ]
  },
  {
   "cell_type": "code",
   "execution_count": 30,
   "metadata": {
    "collapsed": false
   },
   "outputs": [
    {
     "data": {
      "text/html": [
       "<div>\n",
       "<table border=\"1\" class=\"dataframe\">\n",
       "  <thead>\n",
       "    <tr style=\"text-align: right;\">\n",
       "      <th></th>\n",
       "      <th>timestamp</th>\n",
       "      <th>index</th>\n",
       "      <th>confidence</th>\n",
       "      <th>norm_pos_x</th>\n",
       "      <th>norm_pos_y</th>\n",
       "      <th>base_data</th>\n",
       "      <th>gaze_point_3d_x</th>\n",
       "      <th>gaze_point_3d_y</th>\n",
       "      <th>gaze_point_3d_z</th>\n",
       "      <th>eye_center0_3d_x</th>\n",
       "      <th>...</th>\n",
       "      <th>eye_center0_3d_z</th>\n",
       "      <th>gaze_normal0_x</th>\n",
       "      <th>gaze_normal0_y</th>\n",
       "      <th>gaze_normal0_z</th>\n",
       "      <th>eye_center1_3d_x</th>\n",
       "      <th>eye_center1_3d_y</th>\n",
       "      <th>eye_center1_3d_z</th>\n",
       "      <th>gaze_normal1_x</th>\n",
       "      <th>gaze_normal1_y</th>\n",
       "      <th>gaze_normal1_z</th>\n",
       "    </tr>\n",
       "  </thead>\n",
       "  <tbody>\n",
       "    <tr>\n",
       "      <th>0</th>\n",
       "      <td>96886.474441</td>\n",
       "      <td>0</td>\n",
       "      <td>0.122857</td>\n",
       "      <td>0.278846</td>\n",
       "      <td>0.208510</td>\n",
       "      <td>96886.474441098-0</td>\n",
       "      <td>NaN</td>\n",
       "      <td>NaN</td>\n",
       "      <td>NaN</td>\n",
       "      <td>NaN</td>\n",
       "      <td>...</td>\n",
       "      <td>NaN</td>\n",
       "      <td>NaN</td>\n",
       "      <td>NaN</td>\n",
       "      <td>NaN</td>\n",
       "      <td>NaN</td>\n",
       "      <td>NaN</td>\n",
       "      <td>NaN</td>\n",
       "      <td>NaN</td>\n",
       "      <td>NaN</td>\n",
       "      <td>NaN</td>\n",
       "    </tr>\n",
       "    <tr>\n",
       "      <th>1</th>\n",
       "      <td>96886.490512</td>\n",
       "      <td>0</td>\n",
       "      <td>0.099732</td>\n",
       "      <td>0.289285</td>\n",
       "      <td>0.177271</td>\n",
       "      <td>96886.490511565-0</td>\n",
       "      <td>NaN</td>\n",
       "      <td>NaN</td>\n",
       "      <td>NaN</td>\n",
       "      <td>NaN</td>\n",
       "      <td>...</td>\n",
       "      <td>NaN</td>\n",
       "      <td>NaN</td>\n",
       "      <td>NaN</td>\n",
       "      <td>NaN</td>\n",
       "      <td>NaN</td>\n",
       "      <td>NaN</td>\n",
       "      <td>NaN</td>\n",
       "      <td>NaN</td>\n",
       "      <td>NaN</td>\n",
       "      <td>NaN</td>\n",
       "    </tr>\n",
       "    <tr>\n",
       "      <th>2</th>\n",
       "      <td>96886.506428</td>\n",
       "      <td>0</td>\n",
       "      <td>0.146329</td>\n",
       "      <td>0.218745</td>\n",
       "      <td>0.179485</td>\n",
       "      <td>96886.506428023-0</td>\n",
       "      <td>NaN</td>\n",
       "      <td>NaN</td>\n",
       "      <td>NaN</td>\n",
       "      <td>NaN</td>\n",
       "      <td>...</td>\n",
       "      <td>NaN</td>\n",
       "      <td>NaN</td>\n",
       "      <td>NaN</td>\n",
       "      <td>NaN</td>\n",
       "      <td>NaN</td>\n",
       "      <td>NaN</td>\n",
       "      <td>NaN</td>\n",
       "      <td>NaN</td>\n",
       "      <td>NaN</td>\n",
       "      <td>NaN</td>\n",
       "    </tr>\n",
       "    <tr>\n",
       "      <th>3</th>\n",
       "      <td>96886.522510</td>\n",
       "      <td>0</td>\n",
       "      <td>0.158138</td>\n",
       "      <td>0.216510</td>\n",
       "      <td>0.184870</td>\n",
       "      <td>96886.522510473-0</td>\n",
       "      <td>NaN</td>\n",
       "      <td>NaN</td>\n",
       "      <td>NaN</td>\n",
       "      <td>NaN</td>\n",
       "      <td>...</td>\n",
       "      <td>NaN</td>\n",
       "      <td>NaN</td>\n",
       "      <td>NaN</td>\n",
       "      <td>NaN</td>\n",
       "      <td>NaN</td>\n",
       "      <td>NaN</td>\n",
       "      <td>NaN</td>\n",
       "      <td>NaN</td>\n",
       "      <td>NaN</td>\n",
       "      <td>NaN</td>\n",
       "    </tr>\n",
       "    <tr>\n",
       "      <th>4</th>\n",
       "      <td>96886.542424</td>\n",
       "      <td>1</td>\n",
       "      <td>0.142586</td>\n",
       "      <td>0.214756</td>\n",
       "      <td>0.185905</td>\n",
       "      <td>96886.542423733-0</td>\n",
       "      <td>NaN</td>\n",
       "      <td>NaN</td>\n",
       "      <td>NaN</td>\n",
       "      <td>NaN</td>\n",
       "      <td>...</td>\n",
       "      <td>NaN</td>\n",
       "      <td>NaN</td>\n",
       "      <td>NaN</td>\n",
       "      <td>NaN</td>\n",
       "      <td>NaN</td>\n",
       "      <td>NaN</td>\n",
       "      <td>NaN</td>\n",
       "      <td>NaN</td>\n",
       "      <td>NaN</td>\n",
       "      <td>NaN</td>\n",
       "    </tr>\n",
       "    <tr>\n",
       "      <th>5</th>\n",
       "      <td>96886.558415</td>\n",
       "      <td>2</td>\n",
       "      <td>0.111878</td>\n",
       "      <td>0.213117</td>\n",
       "      <td>0.186962</td>\n",
       "      <td>96886.558414501-0</td>\n",
       "      <td>NaN</td>\n",
       "      <td>NaN</td>\n",
       "      <td>NaN</td>\n",
       "      <td>NaN</td>\n",
       "      <td>...</td>\n",
       "      <td>NaN</td>\n",
       "      <td>NaN</td>\n",
       "      <td>NaN</td>\n",
       "      <td>NaN</td>\n",
       "      <td>NaN</td>\n",
       "      <td>NaN</td>\n",
       "      <td>NaN</td>\n",
       "      <td>NaN</td>\n",
       "      <td>NaN</td>\n",
       "      <td>NaN</td>\n",
       "    </tr>\n",
       "    <tr>\n",
       "      <th>6</th>\n",
       "      <td>96886.574435</td>\n",
       "      <td>2</td>\n",
       "      <td>0.131915</td>\n",
       "      <td>0.211477</td>\n",
       "      <td>0.188044</td>\n",
       "      <td>96886.574434536-0</td>\n",
       "      <td>NaN</td>\n",
       "      <td>NaN</td>\n",
       "      <td>NaN</td>\n",
       "      <td>NaN</td>\n",
       "      <td>...</td>\n",
       "      <td>NaN</td>\n",
       "      <td>NaN</td>\n",
       "      <td>NaN</td>\n",
       "      <td>NaN</td>\n",
       "      <td>NaN</td>\n",
       "      <td>NaN</td>\n",
       "      <td>NaN</td>\n",
       "      <td>NaN</td>\n",
       "      <td>NaN</td>\n",
       "      <td>NaN</td>\n",
       "    </tr>\n",
       "    <tr>\n",
       "      <th>7</th>\n",
       "      <td>96886.590508</td>\n",
       "      <td>2</td>\n",
       "      <td>0.100052</td>\n",
       "      <td>0.214735</td>\n",
       "      <td>0.173520</td>\n",
       "      <td>96886.590507628-0</td>\n",
       "      <td>NaN</td>\n",
       "      <td>NaN</td>\n",
       "      <td>NaN</td>\n",
       "      <td>NaN</td>\n",
       "      <td>...</td>\n",
       "      <td>NaN</td>\n",
       "      <td>NaN</td>\n",
       "      <td>NaN</td>\n",
       "      <td>NaN</td>\n",
       "      <td>NaN</td>\n",
       "      <td>NaN</td>\n",
       "      <td>NaN</td>\n",
       "      <td>NaN</td>\n",
       "      <td>NaN</td>\n",
       "      <td>NaN</td>\n",
       "    </tr>\n",
       "    <tr>\n",
       "      <th>8</th>\n",
       "      <td>96886.606629</td>\n",
       "      <td>3</td>\n",
       "      <td>0.119817</td>\n",
       "      <td>0.212795</td>\n",
       "      <td>0.175547</td>\n",
       "      <td>96886.606629388-0</td>\n",
       "      <td>NaN</td>\n",
       "      <td>NaN</td>\n",
       "      <td>NaN</td>\n",
       "      <td>NaN</td>\n",
       "      <td>...</td>\n",
       "      <td>NaN</td>\n",
       "      <td>NaN</td>\n",
       "      <td>NaN</td>\n",
       "      <td>NaN</td>\n",
       "      <td>NaN</td>\n",
       "      <td>NaN</td>\n",
       "      <td>NaN</td>\n",
       "      <td>NaN</td>\n",
       "      <td>NaN</td>\n",
       "      <td>NaN</td>\n",
       "    </tr>\n",
       "    <tr>\n",
       "      <th>9</th>\n",
       "      <td>96886.626453</td>\n",
       "      <td>4</td>\n",
       "      <td>0.087804</td>\n",
       "      <td>0.215849</td>\n",
       "      <td>0.160940</td>\n",
       "      <td>96886.626453306-0</td>\n",
       "      <td>NaN</td>\n",
       "      <td>NaN</td>\n",
       "      <td>NaN</td>\n",
       "      <td>NaN</td>\n",
       "      <td>...</td>\n",
       "      <td>NaN</td>\n",
       "      <td>NaN</td>\n",
       "      <td>NaN</td>\n",
       "      <td>NaN</td>\n",
       "      <td>NaN</td>\n",
       "      <td>NaN</td>\n",
       "      <td>NaN</td>\n",
       "      <td>NaN</td>\n",
       "      <td>NaN</td>\n",
       "      <td>NaN</td>\n",
       "    </tr>\n",
       "  </tbody>\n",
       "</table>\n",
       "<p>10 rows × 21 columns</p>\n",
       "</div>"
      ],
      "text/plain": [
       "      timestamp  index  confidence  norm_pos_x  norm_pos_y          base_data  \\\n",
       "0  96886.474441      0    0.122857    0.278846    0.208510  96886.474441098-0   \n",
       "1  96886.490512      0    0.099732    0.289285    0.177271  96886.490511565-0   \n",
       "2  96886.506428      0    0.146329    0.218745    0.179485  96886.506428023-0   \n",
       "3  96886.522510      0    0.158138    0.216510    0.184870  96886.522510473-0   \n",
       "4  96886.542424      1    0.142586    0.214756    0.185905  96886.542423733-0   \n",
       "5  96886.558415      2    0.111878    0.213117    0.186962  96886.558414501-0   \n",
       "6  96886.574435      2    0.131915    0.211477    0.188044  96886.574434536-0   \n",
       "7  96886.590508      2    0.100052    0.214735    0.173520  96886.590507628-0   \n",
       "8  96886.606629      3    0.119817    0.212795    0.175547  96886.606629388-0   \n",
       "9  96886.626453      4    0.087804    0.215849    0.160940  96886.626453306-0   \n",
       "\n",
       "   gaze_point_3d_x  gaze_point_3d_y  gaze_point_3d_z  eye_center0_3d_x  \\\n",
       "0              NaN              NaN              NaN               NaN   \n",
       "1              NaN              NaN              NaN               NaN   \n",
       "2              NaN              NaN              NaN               NaN   \n",
       "3              NaN              NaN              NaN               NaN   \n",
       "4              NaN              NaN              NaN               NaN   \n",
       "5              NaN              NaN              NaN               NaN   \n",
       "6              NaN              NaN              NaN               NaN   \n",
       "7              NaN              NaN              NaN               NaN   \n",
       "8              NaN              NaN              NaN               NaN   \n",
       "9              NaN              NaN              NaN               NaN   \n",
       "\n",
       "        ...        eye_center0_3d_z  gaze_normal0_x  gaze_normal0_y  \\\n",
       "0       ...                     NaN             NaN             NaN   \n",
       "1       ...                     NaN             NaN             NaN   \n",
       "2       ...                     NaN             NaN             NaN   \n",
       "3       ...                     NaN             NaN             NaN   \n",
       "4       ...                     NaN             NaN             NaN   \n",
       "5       ...                     NaN             NaN             NaN   \n",
       "6       ...                     NaN             NaN             NaN   \n",
       "7       ...                     NaN             NaN             NaN   \n",
       "8       ...                     NaN             NaN             NaN   \n",
       "9       ...                     NaN             NaN             NaN   \n",
       "\n",
       "   gaze_normal0_z  eye_center1_3d_x  eye_center1_3d_y  eye_center1_3d_z  \\\n",
       "0             NaN               NaN               NaN               NaN   \n",
       "1             NaN               NaN               NaN               NaN   \n",
       "2             NaN               NaN               NaN               NaN   \n",
       "3             NaN               NaN               NaN               NaN   \n",
       "4             NaN               NaN               NaN               NaN   \n",
       "5             NaN               NaN               NaN               NaN   \n",
       "6             NaN               NaN               NaN               NaN   \n",
       "7             NaN               NaN               NaN               NaN   \n",
       "8             NaN               NaN               NaN               NaN   \n",
       "9             NaN               NaN               NaN               NaN   \n",
       "\n",
       "   gaze_normal1_x  gaze_normal1_y  gaze_normal1_z  \n",
       "0             NaN             NaN             NaN  \n",
       "1             NaN             NaN             NaN  \n",
       "2             NaN             NaN             NaN  \n",
       "3             NaN             NaN             NaN  \n",
       "4             NaN             NaN             NaN  \n",
       "5             NaN             NaN             NaN  \n",
       "6             NaN             NaN             NaN  \n",
       "7             NaN             NaN             NaN  \n",
       "8             NaN             NaN             NaN  \n",
       "9             NaN             NaN             NaN  \n",
       "\n",
       "[10 rows x 21 columns]"
      ]
     },
     "execution_count": 30,
     "metadata": {},
     "output_type": "execute_result"
    }
   ],
   "source": [
    "df.head(10)"
   ]
  },
  {
   "cell_type": "code",
   "execution_count": 91,
   "metadata": {
    "collapsed": false
   },
   "outputs": [],
   "source": [
    "worldFrame = np.zeros(4)\n",
    "ref_gazeX = [-2342.3, 23432.32, 3222.4, 65433.2]\n",
    "ref_gazeY = [543.3, 2342.23, 5422.3, 23411.3]\n",
    "heatmap_df = pd.DataFrame({'worldFrame':worldFrame, 'ref_gazeX': ref_gazeX, 'ref_gazeY':ref_gazeY})"
   ]
  },
  {
   "cell_type": "code",
   "execution_count": 92,
   "metadata": {
    "collapsed": false
   },
   "outputs": [
    {
     "data": {
      "text/html": [
       "<div>\n",
       "<table border=\"1\" class=\"dataframe\">\n",
       "  <thead>\n",
       "    <tr style=\"text-align: right;\">\n",
       "      <th></th>\n",
       "      <th>ref_gazeX</th>\n",
       "      <th>ref_gazeY</th>\n",
       "      <th>worldFrame</th>\n",
       "    </tr>\n",
       "  </thead>\n",
       "  <tbody>\n",
       "    <tr>\n",
       "      <th>0</th>\n",
       "      <td>-2342.30</td>\n",
       "      <td>543.30</td>\n",
       "      <td>0.0</td>\n",
       "    </tr>\n",
       "    <tr>\n",
       "      <th>1</th>\n",
       "      <td>23432.32</td>\n",
       "      <td>2342.23</td>\n",
       "      <td>0.0</td>\n",
       "    </tr>\n",
       "    <tr>\n",
       "      <th>2</th>\n",
       "      <td>3222.40</td>\n",
       "      <td>5422.30</td>\n",
       "      <td>0.0</td>\n",
       "    </tr>\n",
       "    <tr>\n",
       "      <th>3</th>\n",
       "      <td>65433.20</td>\n",
       "      <td>23411.30</td>\n",
       "      <td>0.0</td>\n",
       "    </tr>\n",
       "  </tbody>\n",
       "</table>\n",
       "</div>"
      ],
      "text/plain": [
       "   ref_gazeX  ref_gazeY  worldFrame\n",
       "0   -2342.30     543.30         0.0\n",
       "1   23432.32    2342.23         0.0\n",
       "2    3222.40    5422.30         0.0\n",
       "3   65433.20   23411.30         0.0"
      ]
     },
     "execution_count": 92,
     "metadata": {},
     "output_type": "execute_result"
    }
   ],
   "source": [
    "heatmap_df"
   ]
  },
  {
   "cell_type": "code",
   "execution_count": 95,
   "metadata": {
    "collapsed": false
   },
   "outputs": [
    {
     "name": "stdout",
     "output_type": "stream",
     "text": [
      "0\n",
      "1\n",
      "2\n",
      "3\n"
     ]
    }
   ],
   "source": [
    "for i,row in heatmap_df.loc[heatmap_df['worldFrame'] == int(0), :].iterrows():\n",
    "    print i"
   ]
  },
  {
   "cell_type": "code",
   "execution_count": 5,
   "metadata": {
    "collapsed": true
   },
   "outputs": [],
   "source": [
    "ts = np.load('../pl_testData/2017_02_07/003/world_timestamps.npy')"
   ]
  },
  {
   "cell_type": "code",
   "execution_count": 9,
   "metadata": {
    "collapsed": false
   },
   "outputs": [
    {
     "data": {
      "text/plain": [
       "array([ 96886.50547468,  96886.54153594,  96886.57367263,  96886.60950302,\n",
       "        96886.64152796])"
      ]
     },
     "execution_count": 9,
     "metadata": {},
     "output_type": "execute_result"
    }
   ],
   "source": [
    "ts[:5]"
   ]
  },
  {
   "cell_type": "code",
   "execution_count": 26,
   "metadata": {
    "collapsed": false
   },
   "outputs": [
    {
     "name": "stdout",
     "output_type": "stream",
     "text": [
      "failed to find enough\n",
      "found enough\n",
      "no matches found\n",
      "failed to find enough\n"
     ]
    }
   ],
   "source": [
    "r = [2, 234, np.arange(30), 2]\n",
    "for i in r:\n",
    "    try:\n",
    "        if i > 3:\n",
    "            print 'found enough'\n",
    "        else:\n",
    "            print 'failed to find enough'\n",
    "    except:\n",
    "        print 'no matches found'\n",
    "        pass"
   ]
  },
  {
   "cell_type": "code",
   "execution_count": 77,
   "metadata": {
    "collapsed": false
   },
   "outputs": [],
   "source": [
    "tmp = df.loc[df['index']<20]\n"
   ]
  },
  {
   "cell_type": "code",
   "execution_count": 79,
   "metadata": {
    "collapsed": false
   },
   "outputs": [],
   "source": [
    "framesToUse = np.arange(0, 10, 1)"
   ]
  },
  {
   "cell_type": "code",
   "execution_count": 81,
   "metadata": {
    "collapsed": false
   },
   "outputs": [
    {
     "data": {
      "text/plain": [
       "10"
      ]
     },
     "execution_count": 81,
     "metadata": {},
     "output_type": "execute_result"
    }
   ],
   "source": [
    "framesToUse.shape[0]"
   ]
  },
  {
   "cell_type": "code",
   "execution_count": 61,
   "metadata": {
    "collapsed": false
   },
   "outputs": [
    {
     "ename": "NameError",
     "evalue": "name 'tmp2' is not defined",
     "output_type": "error",
     "traceback": [
      "\u001b[0;31m---------------------------------------------------------------------------\u001b[0m",
      "\u001b[0;31mNameError\u001b[0m                                 Traceback (most recent call last)",
      "\u001b[0;32m<ipython-input-61-0ecb54e0ac5d>\u001b[0m in \u001b[0;36m<module>\u001b[0;34m()\u001b[0m\n\u001b[0;32m----> 1\u001b[0;31m \u001b[0mtmp2\u001b[0m\u001b[0;34m\u001b[0m\u001b[0m\n\u001b[0m",
      "\u001b[0;31mNameError\u001b[0m: name 'tmp2' is not defined"
     ]
    }
   ],
   "source": [
    "tmp2"
   ]
  },
  {
   "cell_type": "code",
   "execution_count": 63,
   "metadata": {
    "collapsed": false
   },
   "outputs": [],
   "source": [
    "tmp2 = pd.DataFrame(columns=['test1','test2'])\n"
   ]
  },
  {
   "cell_type": "code",
   "execution_count": 65,
   "metadata": {
    "collapsed": false
   },
   "outputs": [],
   "source": [
    "newTmp = pd.DataFrame({'test1': 234, 'test2':23422}, index=[0])"
   ]
  },
  {
   "cell_type": "code",
   "execution_count": 68,
   "metadata": {
    "collapsed": true
   },
   "outputs": [],
   "source": [
    "tmp = pd.concat([tmp, newTmp])"
   ]
  },
  {
   "cell_type": "code",
   "execution_count": 83,
   "metadata": {
    "collapsed": false
   },
   "outputs": [],
   "source": [
    "gazeData_df = pd.DataFrame(columns=['gaze_ts', 'worldFrame', 'confidence',\n",
    "                            'frame_gazeX', 'frame_gazeY',\n",
    "                            'ref_gazeX', 'ref_gazeY', \n",
    "                            'obj_gazeX', 'obj_gazeY', 'obj_gazeZ'])"
   ]
  },
  {
   "cell_type": "code",
   "execution_count": 85,
   "metadata": {
    "collapsed": false
   },
   "outputs": [
    {
     "data": {
      "text/html": [
       "<div>\n",
       "<table border=\"1\" class=\"dataframe\">\n",
       "  <thead>\n",
       "    <tr style=\"text-align: right;\">\n",
       "      <th></th>\n",
       "      <th>gaze_ts</th>\n",
       "      <th>worldFrame</th>\n",
       "      <th>confidence</th>\n",
       "      <th>frame_gazeX</th>\n",
       "      <th>frame_gazeY</th>\n",
       "      <th>ref_gazeX</th>\n",
       "      <th>ref_gazeY</th>\n",
       "      <th>obj_gazeX</th>\n",
       "      <th>obj_gazeY</th>\n",
       "      <th>obj_gazeZ</th>\n",
       "    </tr>\n",
       "  </thead>\n",
       "  <tbody>\n",
       "  </tbody>\n",
       "</table>\n",
       "</div>"
      ],
      "text/plain": [
       "Empty DataFrame\n",
       "Columns: [gaze_ts, worldFrame, confidence, frame_gazeX, frame_gazeY, ref_gazeX, ref_gazeY, obj_gazeX, obj_gazeY, obj_gazeZ]\n",
       "Index: []"
      ]
     },
     "execution_count": 85,
     "metadata": {},
     "output_type": "execute_result"
    }
   ],
   "source": [
    "gazeData_df"
   ]
  },
  {
   "cell_type": "code",
   "execution_count": null,
   "metadata": {
    "collapsed": true
   },
   "outputs": [],
   "source": []
  }
 ],
 "metadata": {
  "kernelspec": {
   "display_name": "Python 2",
   "language": "python",
   "name": "python2"
  },
  "language_info": {
   "codemirror_mode": {
    "name": "ipython",
    "version": 2
   },
   "file_extension": ".py",
   "mimetype": "text/x-python",
   "name": "python",
   "nbconvert_exporter": "python",
   "pygments_lexer": "ipython2",
   "version": "2.7.11"
  }
 },
 "nbformat": 4,
 "nbformat_minor": 2
}
